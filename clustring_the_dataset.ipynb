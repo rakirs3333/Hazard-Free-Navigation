{
  "cells": [
    {
      "cell_type": "code",
      "execution_count": null,
      "metadata": {
        "id": "HOYHnJmU6cl2"
      },
      "outputs": [],
      "source": [
        "import pandas as pd\n",
        "from sklearn.cluster import MiniBatchKMeans\n",
        "\n",
        "import warnings\n",
        "warnings.filterwarnings(\"ignore\")"
      ]
    },
    {
      "cell_type": "code",
      "execution_count": null,
      "metadata": {
        "id": "l97KpX1n6cl5"
      },
      "outputs": [],
      "source": [
        "# Load your data\n",
        "path = 'train.csv'\n",
        "\n",
        "data = pd.read_csv(path)"
      ]
    },
    {
      "cell_type": "code",
      "execution_count": null,
      "metadata": {
        "id": "eGVyzS-77Cki"
      },
      "outputs": [],
      "source": [
        "# Drop rows with missing or invalid coordinates\n",
        "data.dropna(subset=['Latitude', 'Longitude'], inplace=True)"
      ]
    },
    {
      "cell_type": "code",
      "execution_count": null,
      "metadata": {
        "colab": {
          "base_uri": "https://localhost:8080/"
        },
        "id": "fhk9IhKUByLU",
        "outputId": "ab6d8753-d48d-4acd-c49b-9c87c387dcfe"
      },
      "outputs": [],
      "source": [
        "print(data.shape)"
      ]
    },
    {
      "cell_type": "code",
      "execution_count": null,
      "metadata": {
        "id": "OqmFVWAm8VW1"
      },
      "outputs": [],
      "source": [
        "# Selecting only the latitude and longitude columns\n",
        "geo_data = data[['Latitude', 'Longitude']]"
      ]
    },
    {
      "cell_type": "code",
      "execution_count": null,
      "metadata": {
        "colab": {
          "base_uri": "https://localhost:8080/"
        },
        "id": "npIZnsBj8WJN",
        "outputId": "f7d78f60-bca1-454b-fb57-f85738dfe81e"
      },
      "outputs": [],
      "source": [
        "print(geo_data.shape)"
      ]
    },
    {
      "cell_type": "code",
      "execution_count": null,
      "metadata": {
        "id": "2FEnNZaW6cl6"
      },
      "outputs": [],
      "source": [
        "# Create the MiniBatch K-Means model\n",
        "n_clusters = 200\n",
        "kmeans = MiniBatchKMeans(n_clusters=n_clusters, batch_size=10000, random_state=0)\n"
      ]
    },
    {
      "cell_type": "code",
      "execution_count": null,
      "metadata": {
        "colab": {
          "base_uri": "https://localhost:8080/",
          "height": 130
        },
        "id": "3G6ZUhrj6cl6",
        "outputId": "20c9d52d-f1cc-4ada-a359-38a240033fac"
      },
      "outputs": [],
      "source": [
        "# Fit the model\n",
        "kmeans.fit(geo_data)"
      ]
    },
    {
      "cell_type": "code",
      "execution_count": null,
      "metadata": {
        "id": "BWopRkWQEdC_"
      },
      "outputs": [],
      "source": [
        "# Extract cluster centers (hotspots)\n",
        "hotspots = kmeans.cluster_centers_\n",
        "\n"
      ]
    },
    {
      "cell_type": "code",
      "execution_count": null,
      "metadata": {
        "id": "LFdVIoVOFuIE"
      },
      "outputs": [],
      "source": [
        "# Convert hotspots to a DataFrame\n",
        "hotspots_df = pd.DataFrame(hotspots, columns=['Latitude', 'Longitude'])\n",
        "\n",
        "hotspots_df.head()"
      ]
    },
    {
      "cell_type": "code",
      "execution_count": null,
      "metadata": {},
      "outputs": [],
      "source": [
        "# Save the hotspots to a new CSV file\n",
        "hotspots_df.to_csv('hotspots.csv', index=False)"
      ]
    },
    {
      "cell_type": "code",
      "execution_count": null,
      "metadata": {},
      "outputs": [],
      "source": [
        "import folium\n",
        "from folium.plugins import HeatMap\n",
        "import pandas as pd"
      ]
    },
    {
      "cell_type": "code",
      "execution_count": null,
      "metadata": {},
      "outputs": [],
      "source": [
        "# Load hotspots data\n",
        "hotspots = pd.read_csv('hotspots.csv')\n",
        "\n",
        "hotspots.head()"
      ]
    },
    {
      "cell_type": "code",
      "execution_count": null,
      "metadata": {},
      "outputs": [],
      "source": [
        "# Create a map centered around the mean location of the hotspots\n",
        "map_center = [hotspots['Latitude'].mean(), hotspots['Longitude'].mean()]\n",
        "map = folium.Map(location=map_center, zoom_start=12)"
      ]
    },
    {
      "cell_type": "code",
      "execution_count": null,
      "metadata": {},
      "outputs": [],
      "source": [
        "# Add hotspots to the map\n",
        "for index, row in hotspots.iterrows():\n",
        "    folium.Marker(\n",
        "        location=[row['Latitude'], row['Longitude']],\n",
        "        popup='Hotspot',\n",
        "        icon=folium.Icon(color='red')\n",
        "    ).add_to(map)"
      ]
    },
    {
      "cell_type": "code",
      "execution_count": null,
      "metadata": {},
      "outputs": [],
      "source": [
        "# Display the map in Jupyter Notebook\n",
        "map  "
      ]
    },
    {
      "cell_type": "code",
      "execution_count": null,
      "metadata": {},
      "outputs": [],
      "source": [
        "# Or save the map to an HTML file\n",
        "# map.save('hotspots_map.html')"
      ]
    }
  ],
  "metadata": {
    "colab": {
      "provenance": []
    },
    "kernelspec": {
      "display_name": "Python 3",
      "name": "python3"
    },
    "language_info": {
      "codemirror_mode": {
        "name": "ipython",
        "version": 3
      },
      "file_extension": ".py",
      "mimetype": "text/x-python",
      "name": "python",
      "nbconvert_exporter": "python",
      "pygments_lexer": "ipython3",
      "version": "3.10.13"
    }
  },
  "nbformat": 4,
  "nbformat_minor": 0
}
