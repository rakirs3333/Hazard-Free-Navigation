{
 "cells": [
  {
   "cell_type": "code",
   "execution_count": null,
   "metadata": {},
   "outputs": [],
   "source": [
    "import osmnx as ox\n",
    "import networkx as nx\n",
    "import folium\n",
    "import pandas as pd\n",
    "import warnings\n",
    "\n",
    "warnings.filterwarnings(\"ignore\")\n",
    "\n",
    "# Load the hotspots dataset\n",
    "hotspots_df = pd.read_csv('hotspots.csv')\n",
    "\n",
    "# Ask for user input for source and destination\n",
    "source_location = input(\"Enter the source location: \")  # e.g., \"Telegraph Hill\"\n",
    "destination_location = input(\"Enter the destination location: \")  # e.g., \"Mount Davidson\""
   ]
  },
  {
   "cell_type": "code",
   "execution_count": null,
   "metadata": {},
   "outputs": [],
   "source": [
    "# Geocode the input locations to get their coordinates\n",
    "source_coords = ox.geocode(source_location + ', San Francisco, California, USA')\n",
    "destination_coords = ox.geocode(destination_location + ', San Francisco, California, USA')\n",
    "\n",
    "# Create a street network graph for San Francisco\n",
    "G = ox.graph_from_place('San Francisco, California, USA', network_type='drive')\n",
    "\n",
    "# Find the nearest nodes for the source and destination\n",
    "source_node = ox.distance.nearest_nodes(G, source_coords[1], source_coords[0])\n",
    "destination_node = ox.distance.nearest_nodes(G, destination_coords[1], destination_coords[0])\n",
    "\n",
    "# Compute the shortest path before removing hotspots\n",
    "shortest_path_before = nx.shortest_path(G, source_node, destination_node, weight='length')\n",
    "\n",
    "# Find the nearest nodes in the street network for the hotspots\n",
    "hotspot_nodes = [ox.distance.nearest_nodes(G, lon, lat) for lat, lon in zip(hotspots_df['Latitude'], hotspots_df['Longitude'])]\n",
    "\n",
    "# Remove the hotspot nodes from the graph\n",
    "G_modified = G.copy()\n",
    "for node in hotspot_nodes:\n",
    "    if node in G_modified:\n",
    "        G_modified.remove_node(node)\n",
    "\n",
    "# Compute the shortest path after removing hotspots\n",
    "shortest_path_after = nx.shortest_path(G_modified, source_node, destination_node, weight='length')\n"
   ]
  },
  {
   "cell_type": "code",
   "execution_count": null,
   "metadata": {},
   "outputs": [],
   "source": [
    "# Create map visualization using Folium\n",
    "m = folium.Map(location=[(source_coords[0] + destination_coords[0]) / 2, \n",
    "                        (source_coords[1] + destination_coords[1]) / 2], \n",
    "                zoom_start=12)\n",
    "\n",
    "# Add the source, destination, and paths to the map\n",
    "folium.Marker(source_coords, popup=source_location, icon=folium.Icon(color='green')).add_to(m)\n",
    "folium.Marker(destination_coords, popup=destination_location, icon=folium.Icon(color='red')).add_to(m)\n",
    "ox.plot_route_folium(G, shortest_path_before, route_map=m, color='blue')\n",
    "ox.plot_route_folium(G_modified, shortest_path_after, route_map=m, color='red')\n",
    "\n",
    "# Add hotspots as markers to the map\n",
    "for lat, lon in zip(hotspots_df['Latitude'], hotspots_df['Longitude']):\n",
    "    folium.Marker([lat, lon], popup='Hotspot', icon=folium.Icon(color='lightgray')).add_to(m)\n",
    "    \n",
    "# Save the map to an HTML file\n",
    "# m.save(\"sf_shortest_path_comparison.html\")"
   ]
  },
  {
   "cell_type": "code",
   "execution_count": null,
   "metadata": {},
   "outputs": [],
   "source": [
    "m"
   ]
  }
 ],
 "metadata": {
  "kernelspec": {
   "display_name": "base",
   "language": "python",
   "name": "python3"
  },
  "language_info": {
   "codemirror_mode": {
    "name": "ipython",
    "version": 3
   },
   "file_extension": ".py",
   "mimetype": "text/x-python",
   "name": "python",
   "nbconvert_exporter": "python",
   "pygments_lexer": "ipython3",
   "version": "3.10.13"
  }
 },
 "nbformat": 4,
 "nbformat_minor": 2
}
